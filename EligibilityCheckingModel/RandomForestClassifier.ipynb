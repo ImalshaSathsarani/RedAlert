{
 "cells": [
  {
   "cell_type": "code",
   "execution_count": 3,
   "id": "f2143c92",
   "metadata": {},
   "outputs": [
    {
     "data": {
      "text/plain": [
       "{'0': {'precision': 1.0, 'recall': 1.0, 'f1-score': 1.0, 'support': 664.0},\n",
       " '1': {'precision': 1.0, 'recall': 1.0, 'f1-score': 1.0, 'support': 336.0},\n",
       " 'accuracy': 1.0,\n",
       " 'macro avg': {'precision': 1.0,\n",
       "  'recall': 1.0,\n",
       "  'f1-score': 1.0,\n",
       "  'support': 1000.0},\n",
       " 'weighted avg': {'precision': 1.0,\n",
       "  'recall': 1.0,\n",
       "  'f1-score': 1.0,\n",
       "  'support': 1000.0}}"
      ]
     },
     "execution_count": 3,
     "metadata": {},
     "output_type": "execute_result"
    }
   ],
   "source": [
    "from datetime import datetime\n",
    "import pandas as pd\n",
    "from sklearn.preprocessing import LabelEncoder\n",
    "from sklearn.model_selection import train_test_split\n",
    "from sklearn.ensemble import RandomForestClassifier\n",
    "from sklearn.metrics import classification_report\n",
    "\n",
    "# Reload the dataset to include LastDonationDate\n",
    "df = pd.read_csv(\"D:/Apps/RedAlert2/RedAlert/EligibilityCheckingModel/BloodDonationEligibilityDataset_5000.csv\")\n",
    "\n",
    "# Convert LastDonationDate to DaysSinceLastDonation\n",
    "df['LastDonationDate'] = pd.to_datetime(df['LastDonationDate'])\n",
    "today = pd.to_datetime(datetime.today().date())\n",
    "df['DaysSinceLastDonation'] = (today - df['LastDonationDate']).dt.days\n",
    "\n",
    "# Drop LastDonationDate as a raw date column\n",
    "df.drop(columns=['LastDonationDate'], inplace=True)\n",
    "\n",
    "# Encode categorical features\n",
    "label_encoders = {}\n",
    "for column in df.columns:\n",
    "    if df[column].dtype == 'object':\n",
    "        le = LabelEncoder()\n",
    "        df[column] = le.fit_transform(df[column])\n",
    "        label_encoders[column] = le\n",
    "\n",
    "# Split into features and labels\n",
    "X = df.drop(columns=['EligibleToDonate'])\n",
    "y = df['EligibleToDonate']\n",
    "\n",
    "# Train-test split\n",
    "X_train, X_test, y_train, y_test = train_test_split(X, y, test_size=0.2, random_state=42)\n",
    "\n",
    "# Train the model again\n",
    "model = RandomForestClassifier(random_state=42)\n",
    "model.fit(X_train, y_train)\n",
    "\n",
    "# Evaluate updated model\n",
    "y_pred = model.predict(X_test)\n",
    "report_updated = classification_report(y_test, y_pred, output_dict=True)\n",
    "\n",
    "report_updated\n"
   ]
  },
  {
   "cell_type": "markdown",
   "id": "bc1439a4",
   "metadata": {},
   "source": [
    "Save the Model"
   ]
  },
  {
   "cell_type": "code",
   "execution_count": 4,
   "id": "ee60a062",
   "metadata": {},
   "outputs": [
    {
     "data": {
      "text/plain": [
       "['LabelEncoders.joblib']"
      ]
     },
     "execution_count": 4,
     "metadata": {},
     "output_type": "execute_result"
    }
   ],
   "source": [
    "import joblib\n",
    "\n",
    "# Save model\n",
    "joblib.dump(model, 'BloodDonationEligibilityModel.joblib')\n",
    "\n",
    "# Save label encoders\n",
    "joblib.dump(label_encoders, 'LabelEncoders.joblib')\n"
   ]
  }
 ],
 "metadata": {
  "kernelspec": {
   "display_name": "base",
   "language": "python",
   "name": "python3"
  },
  "language_info": {
   "codemirror_mode": {
    "name": "ipython",
    "version": 3
   },
   "file_extension": ".py",
   "mimetype": "text/x-python",
   "name": "python",
   "nbconvert_exporter": "python",
   "pygments_lexer": "ipython3",
   "version": "3.12.3"
  }
 },
 "nbformat": 4,
 "nbformat_minor": 5
}
