{
 "cells": [
  {
   "cell_type": "code",
   "execution_count": null,
   "id": "7e69fef9",
   "metadata": {},
   "outputs": [
    {
     "data": {
      "text/plain": [
       "{'0': {'precision': 0.9952127659574468,\n",
       "  'recall': 1.0,\n",
       "  'f1-score': 0.9976006398293789,\n",
       "  'support': 1871.0},\n",
       " '1': {'precision': 1.0,\n",
       "  'recall': 0.9302325581395349,\n",
       "  'f1-score': 0.963855421686747,\n",
       "  'support': 129.0},\n",
       " 'accuracy': 0.9955,\n",
       " 'macro avg': {'precision': 0.9976063829787234,\n",
       "  'recall': 0.9651162790697674,\n",
       "  'f1-score': 0.9807280307580629,\n",
       "  'support': 2000.0},\n",
       " 'weighted avg': {'precision': 0.9955215425531915,\n",
       "  'recall': 0.9955,\n",
       "  'f1-score': 0.995424073259179,\n",
       "  'support': 2000.0}}"
      ]
     },
     "execution_count": 1,
     "metadata": {},
     "output_type": "execute_result"
    }
   ],
   "source": [
    "\n",
    "import pandas as pd\n",
    "from datetime import datetime\n",
    "from sklearn.model_selection import train_test_split\n",
    "from sklearn.ensemble import RandomForestClassifier\n",
    "from sklearn.preprocessing import LabelEncoder\n",
    "from sklearn.metrics import classification_report\n",
    "\n",
    "\n",
    "df = pd.read_csv(\"synthetic_blood_donation_data.csv\")\n",
    "\n",
    "# Convert LastDonationDate to DaysSinceLastDonation\n",
    "df['LastDonationDate'] = pd.to_datetime(df['LastDonationDate'])\n",
    "today = pd.to_datetime(datetime.today().date())\n",
    "df['DaysSinceLastDonation'] = (today - df['LastDonationDate']).dt.days\n",
    "df.drop(columns=['LastDonationDate'], inplace=True)\n",
    "\n",
    "# Encode all categorical features\n",
    "label_encoders = {}\n",
    "for column in df.columns:\n",
    "    if df[column].dtype == 'object':\n",
    "        le = LabelEncoder()\n",
    "        df[column] = le.fit_transform(df[column])\n",
    "        label_encoders[column] = le\n",
    "\n",
    "# Split into features and target\n",
    "X = df.drop(columns=['Eligible'])\n",
    "y = df['Eligible']\n",
    "\n",
    "# Train-test split\n",
    "X_train, X_test, y_train, y_test = train_test_split(X, y, test_size=0.2, random_state=42)\n",
    "\n",
    "# Train the model\n",
    "model = RandomForestClassifier(random_state=42)\n",
    "model.fit(X_train, y_train)\n",
    "\n",
    "# Evaluate the model\n",
    "y_pred = model.predict(X_test)\n",
    "report = classification_report(y_test, y_pred, output_dict=True)\n",
    "report\n"
   ]
  },
  {
   "cell_type": "markdown",
   "id": "5e9fa53d",
   "metadata": {},
   "source": [
    "Save"
   ]
  },
  {
   "cell_type": "code",
   "execution_count": 2,
   "id": "50571c1c",
   "metadata": {},
   "outputs": [
    {
     "data": {
      "text/plain": [
       "['LabelEncoders2.joblib']"
      ]
     },
     "execution_count": 2,
     "metadata": {},
     "output_type": "execute_result"
    }
   ],
   "source": [
    "import joblib\n",
    "\n",
    "# Save model\n",
    "joblib.dump(model, 'BloodDonationEligibilityModel2.joblib')\n",
    "\n",
    "# Save label encoders\n",
    "joblib.dump(label_encoders, 'LabelEncoders2.joblib')"
   ]
  }
 ],
 "metadata": {
  "kernelspec": {
   "display_name": "base",
   "language": "python",
   "name": "python3"
  },
  "language_info": {
   "codemirror_mode": {
    "name": "ipython",
    "version": 3
   },
   "file_extension": ".py",
   "mimetype": "text/x-python",
   "name": "python",
   "nbconvert_exporter": "python",
   "pygments_lexer": "ipython3",
   "version": "3.12.3"
  }
 },
 "nbformat": 4,
 "nbformat_minor": 5
}
