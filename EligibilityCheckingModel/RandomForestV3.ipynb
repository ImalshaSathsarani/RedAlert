{
 "cells": [
  {
   "cell_type": "code",
   "execution_count": 2,
   "id": "9b0f36ca",
   "metadata": {},
   "outputs": [
    {
     "data": {
      "text/plain": [
       "{'No': {'precision': 0.9888535031847133,\n",
       "  'recall': 0.9957242116515232,\n",
       "  'f1-score': 0.9922769640479361,\n",
       "  'support': 1871.0},\n",
       " 'Yes': {'precision': 0.9310344827586207,\n",
       "  'recall': 0.8372093023255814,\n",
       "  'f1-score': 0.8816326530612245,\n",
       "  'support': 129.0},\n",
       " 'accuracy': 0.9855,\n",
       " 'macro avg': {'precision': 0.959943992971667,\n",
       "  'recall': 0.9164667569885523,\n",
       "  'f1-score': 0.9369548085545802,\n",
       "  'support': 2000.0},\n",
       " 'weighted avg': {'precision': 0.9851241763672304,\n",
       "  'recall': 0.9855,\n",
       "  'f1-score': 0.9851404059892932,\n",
       "  'support': 2000.0}}"
      ]
     },
     "execution_count": 2,
     "metadata": {},
     "output_type": "execute_result"
    }
   ],
   "source": [
    "import pandas as pd\n",
    "from datetime import datetime\n",
    "from sklearn.model_selection import train_test_split\n",
    "from sklearn.ensemble import RandomForestClassifier\n",
    "from sklearn.preprocessing import LabelEncoder, MultiLabelBinarizer\n",
    "from sklearn.metrics import classification_report\n",
    "\n",
    "# Load data\n",
    "df = pd.read_csv(\"synthetic_blood_donation_data_multiselect.csv\")\n",
    "\n",
    "# Convert LastDonationDate to DaysSinceLastDonation\n",
    "df['LastDonationDate'] = pd.to_datetime(df['LastDonationDate'])\n",
    "today = pd.to_datetime(datetime.today().date())\n",
    "df['DaysSinceLastDonation'] = (today - df['LastDonationDate']).dt.days\n",
    "df.drop(columns=['LastDonationDate'], inplace=True)\n",
    "\n",
    "# Define multiselect columns\n",
    "multiselect_columns = ['ChronicIllnessDetails', 'MedicationDetails', 'VaccineDetails', 'AllergyDetails']\n",
    "\n",
    "# Clean & split multiselect values\n",
    "for col in multiselect_columns:\n",
    "    df[col] = df[col].fillna(\"\").apply(lambda x: [item.strip() for item in x.split(',') if item.strip() != \"\"])\n",
    "\n",
    "# Apply MultiLabelBinarizer\n",
    "mlb = MultiLabelBinarizer()\n",
    "mlb_dfs = []\n",
    "\n",
    "for col in multiselect_columns:\n",
    "    binarized = pd.DataFrame(mlb.fit_transform(df[col]), columns=[f\"{col}_{cls}\" for cls in mlb.classes_])\n",
    "    mlb_dfs.append(binarized)\n",
    "\n",
    "# Drop original multiselect columns and concatenate new ones\n",
    "df.drop(columns=multiselect_columns, inplace=True)\n",
    "df = pd.concat([df] + mlb_dfs, axis=1)\n",
    "\n",
    "# Encode other categorical features\n",
    "label_encoders = {}\n",
    "for column in df.columns:\n",
    "    if df[column].dtype == 'object' and column != 'Eligible':\n",
    "        le = LabelEncoder()\n",
    "        df[column] = le.fit_transform(df[column])\n",
    "        label_encoders[column] = le\n",
    "\n",
    "# Split into features and target\n",
    "X = df.drop(columns=['Eligible'])\n",
    "y = df['Eligible']\n",
    "\n",
    "# Train-test split\n",
    "X_train, X_test, y_train, y_test = train_test_split(X, y, test_size=0.2, random_state=42)\n",
    "\n",
    "# Train the model\n",
    "model = RandomForestClassifier(random_state=42, class_weight='balanced')\n",
    "model.fit(X_train, y_train)\n",
    "\n",
    "# Evaluate the model\n",
    "y_pred = model.predict(X_test)\n",
    "report = classification_report(y_test, y_pred, output_dict=True)\n",
    "report\n"
   ]
  },
  {
   "cell_type": "code",
   "execution_count": 3,
   "id": "9341193f",
   "metadata": {},
   "outputs": [
    {
     "data": {
      "text/plain": [
       "['MultiLabelBinarizers3.joblib']"
      ]
     },
     "execution_count": 3,
     "metadata": {},
     "output_type": "execute_result"
    }
   ],
   "source": [
    "import joblib\n",
    "\n",
    "mlb_dict = {}\n",
    "for col, bin_df in zip(multiselect_columns, mlb_dfs):\n",
    "    mlb_dict[col] = mlb  # This assumes you reuse the same MLB per field\n",
    "\n",
    "# Save all artifacts\n",
    "joblib.dump(model, 'BloodDonationEligibilityModel3.joblib')\n",
    "joblib.dump(label_encoders, 'LabelEncoders3.joblib')\n",
    "joblib.dump(mlb_dict, 'MultiLabelBinarizers3.joblib')\n"
   ]
  }
 ],
 "metadata": {
  "kernelspec": {
   "display_name": "base",
   "language": "python",
   "name": "python3"
  },
  "language_info": {
   "codemirror_mode": {
    "name": "ipython",
    "version": 3
   },
   "file_extension": ".py",
   "mimetype": "text/x-python",
   "name": "python",
   "nbconvert_exporter": "python",
   "pygments_lexer": "ipython3",
   "version": "3.12.3"
  }
 },
 "nbformat": 4,
 "nbformat_minor": 5
}
